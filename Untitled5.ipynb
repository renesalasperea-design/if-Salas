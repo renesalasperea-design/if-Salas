{
  "nbformat": 4,
  "nbformat_minor": 0,
  "metadata": {
    "colab": {
      "provenance": [],
      "authorship_tag": "ABX9TyP8as2ZhtI2GHG7553WXlL0",
      "include_colab_link": true
    },
    "kernelspec": {
      "name": "python3",
      "display_name": "Python 3"
    },
    "language_info": {
      "name": "python"
    }
  },
  "cells": [
    {
      "cell_type": "markdown",
      "metadata": {
        "id": "view-in-github",
        "colab_type": "text"
      },
      "source": [
        "<a href=\"https://colab.research.google.com/github/renesalasperea-design/if-Salas/blob/main/Untitled5.ipynb\" target=\"_parent\"><img src=\"https://colab.research.google.com/assets/colab-badge.svg\" alt=\"Open In Colab\"/></a>"
      ]
    },
    {
      "cell_type": "code",
      "execution_count": 1,
      "metadata": {
        "colab": {
          "base_uri": "https://localhost:8080/"
        },
        "id": "w8Wd_Qf1HvCF",
        "outputId": "c0b0b2c5-cf86-4d82-f5fe-e1c8c37c90e0"
      },
      "outputs": [
        {
          "output_type": "stream",
          "name": "stdout",
          "text": [
            "ingresar tu edad:17\n",
            "Eres menor de edad. \n"
          ]
        }
      ],
      "source": [
        "# Ejemplos del uso del comando if\n",
        "edad = int(input(\"ingresar tu edad:\"))\n",
        "if edad >= 17:\n",
        "  print(\"Eres menor de edad. \")"
      ]
    },
    {
      "cell_type": "code",
      "source": [
        "# --------------------------------------\n",
        "# Comando IF\n",
        "#---------------------------------------\n",
        "#sintaxis general del if:\n",
        "# if condicion:\n",
        "#     # Bloque de codigo que se ejecuta si la condicion es verdadera\n",
        "# Ejemplo practico:\n",
        "edad = int(input(\"ingresa tu edad:\"))\n",
        "if edad >= 17:\n",
        "  print(\"eres menor de edad.\")"
      ],
      "metadata": {
        "colab": {
          "base_uri": "https://localhost:8080/"
        },
        "id": "xKpdVf6MKdtS",
        "outputId": "9da38104-1975-498e-d396-0f9a4dce400d"
      },
      "execution_count": 4,
      "outputs": [
        {
          "output_type": "stream",
          "name": "stdout",
          "text": [
            "ingresa tu edad:17\n",
            "eres menor de edad.\n"
          ]
        }
      ]
    }
  ]
}